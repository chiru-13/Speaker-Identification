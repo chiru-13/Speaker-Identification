{
 "cells": [
  {
   "cell_type": "code",
   "execution_count": 1,
   "metadata": {},
   "outputs": [],
   "source": [
    "import os\n",
    "import numpy as np\n",
    "import pandas as pd\n",
    "from scipy.io import wavfile\n",
    "import matplotlib.pyplot as plt"
   ]
  },
  {
   "cell_type": "code",
   "execution_count": 9,
   "metadata": {},
   "outputs": [],
   "source": [
    "def create_spectrogram(audio_path, output_directory):\n",
    "    try:\n",
    "        sample_rate, audio_data = wavfile.read(audio_path)\n",
    "        Pxx, freqs, bins, im = plt.specgram(audio_data, NFFT=1024, Fs=8000, noverlap=900)\n",
    "        plt.axis('off')\n",
    "\n",
    "        if not os.path.exists(output_directory):\n",
    "            os.makedirs(output_directory)\n",
    "\n",
    "        output_filename = os.path.join(output_directory, os.path.splitext(os.path.basename(audio_path))[0] + '.png')\n",
    "        plt.savefig(output_filename, bbox_inches='tight')\n",
    "        plt.close()  # Close the figure to release resources\n",
    "    except ValueError as ve:\n",
    "        print(f\"Error during spectrogram computation for {audio_path}: {ve}\")\n",
    "\n",
    "def process_data(data_folder, output_base_directory):\n",
    "    res = []\n",
    "    clss = []\n",
    "    count = 0\n",
    "\n",
    "    for root, dirs, files in os.walk(data_folder):\n",
    "        for file in files:\n",
    "            audio_path = os.path.join(root, file)\n",
    "\n",
    "            # Check if the file is a WAV file\n",
    "            if audio_path.lower().endswith('.wav'):\n",
    "                class_label = os.path.relpath(root, data_folder)  # Use the relative path from data_folder as the class label\n",
    "                res.append(audio_path)\n",
    "                clss.append(class_label)\n",
    "\n",
    "                # Generate spectrogram\n",
    "                output_directory = os.path.join(output_base_directory, class_label)\n",
    "                create_spectrogram(audio_path, output_directory)\n",
    "\n",
    "                count += 1\n",
    "                print(count, end='/')\n",
    "\n",
    "    df = pd.DataFrame({'Path': res, 'Class': clss})\n",
    "    return df"
   ]
  },
  {
   "cell_type": "code",
   "execution_count": 10,
   "metadata": {},
   "outputs": [
    {
     "name": "stdout",
     "output_type": "stream",
     "text": [
      "1/2/3/4/5/6/7/8/9/10/11/12/13/14/15/16/17/18/19/20/21/22/23/24/25/26/27/28/29/30/31/32/33/34/35/36/37/38/39/40/41/42/43/44/45/46/47/48/49/50/51/52/53/54/55/56/57/58/59/60/61/62/63/64/65/66/67/68/69/70/71/72/73/74/75/76/77/78/79/80/81/82/83/84/85/86/87/88/89/90/91/92/93/94/95/96/97/98/99/100/101/102/103/104/105/106/107/108/109/110/111/112/113/114/115/116/117/118/119/120/121/122/123/124/125/126/127/128/129/Error during spectrogram computation for Data/Audio/Female\\TMIT\\SI1160.wav: only 1-dimensional arrays can be used\n",
      "130/131/Error during spectrogram computation for Data/Audio/Female\\TMIT\\SI1208.wav: only 1-dimensional arrays can be used\n",
      "132/133/134/135/136/137/138/139/140/141/142/143/144/145/146/147/148/149/150/151/152/153/154/155/156/Error during spectrogram computation for Data/Audio/Female\\TMIT\\SI1790.wav: only 1-dimensional arrays can be used\n",
      "157/158/Error during spectrogram computation for Data/Audio/Female\\TMIT\\SI1838.wav: only 1-dimensional arrays can be used\n",
      "159/160/161/162/163/164/165/166/167/168/169/170/171/172/173/174/175/176/177/178/179/180/181/182/183/184/185/Error during spectrogram computation for Data/Audio/Female\\TMIT\\SI578.wav: only 1-dimensional arrays can be used\n",
      "186/187/188/189/190/191/192/193/194/195/196/197/198/199/200/201/202/203/204/205/206/207/208/209/210/211/212/213/Error during spectrogram computation for Data/Audio/Female\\TMIT\\SX128.wav: only 1-dimensional arrays can be used\n",
      "214/215/216/217/218/219/220/221/222/223/224/225/226/227/228/229/230/231/232/233/234/235/236/237/238/239/240/241/242/243/244/245/246/247/248/249/250/251/252/253/254/255/256/257/258/259/260/261/262/Error during spectrogram computation for Data/Audio/Female\\TMIT\\SX308.wav: only 1-dimensional arrays can be used\n",
      "263/264/265/266/267/268/269/270/271/272/273/274/275/276/277/278/279/280/281/282/283/284/285/Error during spectrogram computation for Data/Audio/Female\\TMIT\\SX38.wav: only 1-dimensional arrays can be used\n",
      "286/287/288/289/290/291/292/293/294/Error during spectrogram computation for Data/Audio/Female\\TMIT\\SX398.wav: only 1-dimensional arrays can be used\n",
      "295/296/297/298/299/300/301/302/303/304/305/306/307/308/309/310/311/312/313/314/315/316/317/318/319/320/321/322/323/324/325/326/327/328/329/330/331/332/333/334/335/336/337/338/339/340/341/342/343/344/345/346/347/348/349/350/351/352/353/354/355/356/357/358/359/360/361/362/363/364/365/366/367/368/369/370/371/372/373/374/375/376/377/378/379/380/381/382/383/384/385/386/387/388/389/390/391/392/393/394/395/396/397/398/399/400/401/402/403/404/405/406/407/408/409/410/411/412/413/414/415/416/417/418/419/420/421/422/423/424/425/426/427/428/429/430/431/432/433/434/435/436/437/438/439/440/441/442/443/444/445/446/447/448/449/450/451/452/453/454/455/456/457/458/459/460/461/462/463/464/465/466/467/468/469/470/471/472/473/474/475/476/477/478/479/480/481/482/483/484/485/486/487/488/489/490/491/492/493/494/495/496/497/Error during spectrogram computation for Data/Audio/Male\\TMIT\\SX430.wav: only 1-dimensional arrays can be used\n",
      "498/499/500/501/502/503/504/505/506/507/508/509/510/511/512/513/514/515/516/517/518/519/520/521/522/523/524/525/526/527/528/529/530/531/532/533/534/535/536/537/538/539/540/541/542/543/544/545/546/547/548/549/550/551/552/553/554/555/556/557/558/559/560/561/562/563/564/565/566/567/568/569/570/571/572/573/574/575/576/577/578/579/580/581/582/583/584/585/586/587/588/589/590/591/592/593/594/595/596/597/598/599/600/601/602/603/604/605/606/607/608/609/610/611/612/613/614/615/616/617/618/619/620/621/622/623/624/625/626/627/628/629/630/631/632/633/634/635/636/637/638/639/640/641/642/643/644/645/646/647/648/649/650/651/652/653/654/655/656/657/658/659/660/661/662/663/664/665/666/667/668/669/670/671/672/673/674/675/676/677/678/679/680/681/682/683/684/685/686/687/688/689/690/691/692/693/694/695/696/697/698/699/700/701/702/703/704/705/706/707/708/709/710/711/712/713/714/715/716/717/718/719/"
     ]
    },
    {
     "data": {
      "text/html": [
       "<div>\n",
       "<style scoped>\n",
       "    .dataframe tbody tr th:only-of-type {\n",
       "        vertical-align: middle;\n",
       "    }\n",
       "\n",
       "    .dataframe tbody tr th {\n",
       "        vertical-align: top;\n",
       "    }\n",
       "\n",
       "    .dataframe thead th {\n",
       "        text-align: right;\n",
       "    }\n",
       "</style>\n",
       "<table border=\"1\" class=\"dataframe\">\n",
       "  <thead>\n",
       "    <tr style=\"text-align: right;\">\n",
       "      <th></th>\n",
       "      <th>Path</th>\n",
       "      <th>Class</th>\n",
       "    </tr>\n",
       "  </thead>\n",
       "  <tbody>\n",
       "    <tr>\n",
       "      <th>0</th>\n",
       "      <td>Data/Audio/Female\\PTDB-TUG\\mic_F01_sa2.wav</td>\n",
       "      <td>Female\\PTDB-TUG</td>\n",
       "    </tr>\n",
       "    <tr>\n",
       "      <th>1</th>\n",
       "      <td>Data/Audio/Female\\PTDB-TUG\\mic_F01_si454.wav</td>\n",
       "      <td>Female\\PTDB-TUG</td>\n",
       "    </tr>\n",
       "    <tr>\n",
       "      <th>2</th>\n",
       "      <td>Data/Audio/Female\\PTDB-TUG\\mic_F01_si473.wav</td>\n",
       "      <td>Female\\PTDB-TUG</td>\n",
       "    </tr>\n",
       "    <tr>\n",
       "      <th>3</th>\n",
       "      <td>Data/Audio/Female\\PTDB-TUG\\mic_F01_si502.wav</td>\n",
       "      <td>Female\\PTDB-TUG</td>\n",
       "    </tr>\n",
       "    <tr>\n",
       "      <th>4</th>\n",
       "      <td>Data/Audio/Female\\PTDB-TUG\\mic_F01_si523.wav</td>\n",
       "      <td>Female\\PTDB-TUG</td>\n",
       "    </tr>\n",
       "  </tbody>\n",
       "</table>\n",
       "</div>"
      ],
      "text/plain": [
       "                                           Path            Class\n",
       "0    Data/Audio/Female\\PTDB-TUG\\mic_F01_sa2.wav  Female\\PTDB-TUG\n",
       "1  Data/Audio/Female\\PTDB-TUG\\mic_F01_si454.wav  Female\\PTDB-TUG\n",
       "2  Data/Audio/Female\\PTDB-TUG\\mic_F01_si473.wav  Female\\PTDB-TUG\n",
       "3  Data/Audio/Female\\PTDB-TUG\\mic_F01_si502.wav  Female\\PTDB-TUG\n",
       "4  Data/Audio/Female\\PTDB-TUG\\mic_F01_si523.wav  Female\\PTDB-TUG"
      ]
     },
     "execution_count": 10,
     "metadata": {},
     "output_type": "execute_result"
    }
   ],
   "source": [
    "\n",
    "data_folder = 'Data/Audio/'\n",
    "output_base_directory = 'Spectrograms/'\n",
    "\n",
    "df = process_data(data_folder, output_base_directory)\n",
    "df.head()\n"
   ]
  },
  {
   "cell_type": "code",
   "execution_count": null,
   "metadata": {},
   "outputs": [],
   "source": []
  }
 ],
 "metadata": {
  "kernelspec": {
   "display_name": "Python 3 (ipykernel)",
   "language": "python",
   "name": "python3"
  },
  "language_info": {
   "codemirror_mode": {
    "name": "ipython",
    "version": 3
   },
   "file_extension": ".py",
   "mimetype": "text/x-python",
   "name": "python",
   "nbconvert_exporter": "python",
   "pygments_lexer": "ipython3",
   "version": "3.9.0"
  }
 },
 "nbformat": 4,
 "nbformat_minor": 2
}
